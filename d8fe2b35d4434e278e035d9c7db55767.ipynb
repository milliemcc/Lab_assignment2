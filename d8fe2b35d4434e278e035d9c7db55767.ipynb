{
 "cells": [
  {
   "cell_type": "markdown",
   "metadata": {},
   "source": [
    "## Assignment 2 - Millie McCallum\n",
    "### Student ID: 220015902\n",
    "#### GitHub link: https://github.com/milliemcc/Lab_assignment2?tab=readme-ov-file#lab_assignment2 \n",
    "#### Part 1: Python Basics\n"
   ]
  },
  {
   "cell_type": "markdown",
   "metadata": {},
   "source": [
    "#### Run this cell to connect to your GIS and get started:"
   ]
  },
  {
   "cell_type": "code",
   "execution_count": 2,
   "metadata": {},
   "outputs": [],
   "source": [
    "from arcgis.gis import GIS\n",
    "gis = GIS(\"home\")"
   ]
  },
  {
   "cell_type": "code",
   "execution_count": 14,
   "metadata": {},
   "outputs": [],
   "source": [
    "import math"
   ]
  },
  {
   "cell_type": "markdown",
   "metadata": {},
   "source": [
    "#### Now you are ready to start!"
   ]
  },
  {
   "cell_type": "markdown",
   "metadata": {},
   "source": [
    "##### Task 1: Create an If...Else statement that will test whether a number is divisible by 3"
   ]
  },
  {
   "cell_type": "code",
   "execution_count": 11,
   "metadata": {},
   "outputs": [
    {
     "name": "stdout",
     "output_type": "stream",
     "text": [
      "7 is not divisible by 3\n"
     ]
    }
   ],
   "source": [
    "x = 7\n",
    "if x % 3 == 0:\n",
    "    print(x, 'is divisible by 3')\n",
    "else:\n",
    "    print(x, 'is not divisible by 3')"
   ]
  },
  {
   "cell_type": "markdown",
   "metadata": {},
   "source": [
    "##### Task 2: Create an if...else statement that will test whether a type of fruit, presented as a text string, is in a list of acceptable fruits"
   ]
  },
  {
   "cell_type": "code",
   "execution_count": 18,
   "metadata": {},
   "outputs": [
    {
     "name": "stdout",
     "output_type": "stream",
     "text": [
      "strawberry is acceptable\n"
     ]
    }
   ],
   "source": [
    "FruitList = [\"apple\", \"orange\", \"pear\", \"kiwi\", \"strawberry\"]\n",
    "#define a list of fruits\n",
    "Fruit = \"strawberry\"\n",
    "#define fruit and check if fruit is in list using the following if...else statement\n",
    "if Fruit in FruitList: \n",
    "    print(Fruit, 'is acceptable')\n",
    "else: \n",
    "    print(Fruit, 'is not acceptable')"
   ]
  },
  {
   "cell_type": "markdown",
   "metadata": {},
   "source": [
    "##### Task 3: Create a function to calculate the distance between two coordinates using the haversine formula"
   ]
  },
  {
   "cell_type": "markdown",
   "metadata": {},
   "source": [
    "##### coordinates of st andrews 56.34128850185785, -2.7948160338577877\n",
    "##### coordinates of edinburgh 55.95367953462735, -3.196000529772065"
   ]
  },
  {
   "cell_type": "code",
   "execution_count": 39,
   "metadata": {},
   "outputs": [
    {
     "name": "stdout",
     "output_type": "stream",
     "text": [
      "20.314315822542756\n"
     ]
    }
   ],
   "source": [
    "def haversine_distance(coord1, coord2): #define the function\n",
    "    R  = 6371 #set R as the mean radius of the earth\n",
    "\n",
    "    #convert the coordinates to radians \n",
    "    Lat1, Lon1 = math.radians(coord1[0]), math.radians(coord1[1])\n",
    "    Lat2, Lon2 = math.radians(coord2[0]), math.radians(coord2[1])\n",
    "\n",
    "    #translate the above to include coordinates\n",
    "    a = math.sin((Lat2 - Lat1)/2)**2 + math.cos(Lat1) * math.cos(Lat2) * math.sin((Lon2 - Lon1)/2)**2\n",
    "    c = 2 * math.atan2(math.sqrt(a), math.sqrt(1 - a))\n",
    "    \n",
    "    distance = R * c\n",
    "    \n",
    "    return distance #close the function\n",
    "    \n",
    "#specify the coordinates for the function\n",
    "coord1 = [56.0655893572189, -3.4464817673671444] #St Andrews, Scotland\n",
    "coord2 = [55.94655754138988, -3.198601375890858] #Edinbrugh, Scotland\n",
    "\n",
    "print(haversine_distance(coord1, coord2))"
   ]
  }
 ],
 "metadata": {
  "esriNotebookRuntime": {
   "notebookRuntimeName": "ArcGIS Notebook Python 3 Standard",
   "notebookRuntimeVersion": "11.0"
  },
  "kernelspec": {
   "display_name": "Python 3 (ipykernel)",
   "language": "python",
   "name": "python3"
  },
  "language_info": {
   "codemirror_mode": {
    "name": "ipython",
    "version": 3
   },
   "file_extension": ".py",
   "mimetype": "text/x-python",
   "name": "python",
   "nbconvert_exporter": "python",
   "pygments_lexer": "ipython3",
   "version": "3.11.9"
  }
 },
 "nbformat": 4,
 "nbformat_minor": 4
}
